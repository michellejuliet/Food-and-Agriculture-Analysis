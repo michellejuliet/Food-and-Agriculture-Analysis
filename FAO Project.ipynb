{
 "cells": [
  {
   "cell_type": "code",
   "execution_count": 9,
   "id": "41866710",
   "metadata": {},
   "outputs": [],
   "source": [
    "import pandas as pd\n",
    "\n",
    "url=\"https://github.com/HamoyeHQ/HDSC-Introduction-to-Python-for-machine-learning/files/7768140/FoodBalanceSheets_E_Africa_NOFLAG.csv\"\n",
    "df = pd.read_csv(url, encoding=\"latin-1\")"
   ]
  },
  {
   "cell_type": "code",
   "execution_count": 10,
   "id": "c03c8c2f",
   "metadata": {},
   "outputs": [
    {
     "name": "stdout",
     "output_type": "stream",
     "text": [
      "140.9177648602722\n"
     ]
    }
   ],
   "source": [
    "import numpy as np\n",
    "\n",
    "#What is the mean and standard deviation across the whole dataset for the year 2017 to 2 decimal places?\n",
    "\n",
    "mean_2017=df['Y2017'].mean()\n",
    "print(mean_2017)"
   ]
  },
  {
   "cell_type": "raw",
   "id": "4f9a9d86",
   "metadata": {},
   "source": [
    "print(missing_2014 = df1['Y2014'].isnull()"
   ]
  },
  {
   "cell_type": "code",
   "execution_count": 23,
   "id": "57ab7bc5",
   "metadata": {},
   "outputs": [
    {
     "name": "stdout",
     "output_type": "stream",
     "text": [
      "1671.8623590572788\n"
     ]
    }
   ],
   "source": [
    "std_2017=df['Y2017'].std()\n",
    "print(std_2017)"
   ]
  },
  {
   "cell_type": "code",
   "execution_count": 13,
   "id": "54a6fa75",
   "metadata": {},
   "outputs": [
    {
     "name": "stdout",
     "output_type": "stream",
     "text": [
      "49\n"
     ]
    }
   ],
   "source": [
    "# What is the total number of unique countries in the dataset?\n",
    "print(df.groupby('Area')['Area'].nunique().count())\n",
    "# The output shows we have 49 unique countries"
   ]
  },
  {
   "cell_type": "code",
   "execution_count": null,
   "id": "7d923d17",
   "metadata": {},
   "outputs": [],
   "source": []
  },
  {
   "cell_type": "code",
   "execution_count": 15,
   "id": "3563e2f2",
   "metadata": {},
   "outputs": [
    {
     "name": "stdout",
     "output_type": "stream",
     "text": [
      "Element\n",
      "Domestic supply quantity                  2088198.10\n",
      "Export Quantity                            182338.80\n",
      "Fat supply quantity (g/capita/day)          10253.84\n",
      "Feed                                       223705.68\n",
      "Food                                      1258888.28\n",
      "Food supply (kcal/capita/day)              454681.00\n",
      "Food supply quantity (kg/capita/yr)         48690.04\n",
      "Import Quantity                            294559.09\n",
      "Losses                                     160614.00\n",
      "Other uses (non-food)                       91645.97\n",
      "Processing                                 292836.00\n",
      "Production                                2030056.89\n",
      "Protein supply quantity (g/capita/day)      11842.45\n",
      "Residuals                                   35500.00\n",
      "Seed                                        24870.14\n",
      "Stock Variation                             54316.91\n",
      "Total Population - Both sexes             1112641.00\n",
      "Tourist consumption                            91.00\n",
      "Name: Y2017, dtype: float64\n"
     ]
    }
   ],
   "source": [
    "# Perform a groupby operation on ‘Element’.  What is the total number of the sum of Processing in 2017?\n",
    "print(df.groupby('Element')['Y2017'].sum())"
   ]
  },
  {
   "cell_type": "code",
   "execution_count": 19,
   "id": "06158c27",
   "metadata": {},
   "outputs": [
    {
     "name": "stdout",
     "output_type": "stream",
     "text": [
      "Item\n",
      "Alcohol, Non-Food        2180.00\n",
      "Alcoholic Beverages     98783.72\n",
      "Animal Products         11811.73\n",
      "Animal fats            200675.72\n",
      "Apples and products     10559.15\n",
      "                         ...    \n",
      "Vegetables, Other      158104.08\n",
      "Vegetal Products       107064.17\n",
      "Wheat and products     234710.51\n",
      "Wine                     4251.81\n",
      "Yams                   203151.78\n",
      "Name: Y2015, Length: 119, dtype: float64\n"
     ]
    }
   ],
   "source": [
    "#Answer the following questions based on the African food production dataset provided by the FAO website already provided\n",
    "\n",
    "What is the total sum of Wine produced in 2015 and 2018 respectively?\n",
    "print(df.groupby('Item')['Y2015'].sum())\n",
    "# Sum of wine produces in 2015"
   ]
  },
  {
   "cell_type": "code",
   "execution_count": 20,
   "id": "362066e9",
   "metadata": {},
   "outputs": [
    {
     "name": "stdout",
     "output_type": "stream",
     "text": [
      "Item\n",
      "Alcohol, Non-Food        2293.00\n",
      "Alcoholic Beverages     97847.27\n",
      "Animal Products         11578.61\n",
      "Animal fats            269648.27\n",
      "Apples and products      9640.51\n",
      "                         ...    \n",
      "Vegetables, Other      163987.21\n",
      "Vegetal Products       107775.39\n",
      "Wheat and products     242645.19\n",
      "Wine                     4039.32\n",
      "Yams                   221272.09\n",
      "Name: Y2018, Length: 119, dtype: float64\n"
     ]
    }
   ],
   "source": [
    "print(df.groupby('Item')['Y2018'].sum())\n",
    "# Sum of wine produces in 2018"
   ]
  },
  {
   "cell_type": "code",
   "execution_count": 36,
   "id": "0e9be280",
   "metadata": {},
   "outputs": [
    {
     "name": "stdout",
     "output_type": "stream",
     "text": [
      "Area\n",
      "Algeria                         325644.27\n",
      "Angola                          229159.57\n",
      "Benin                           124771.22\n",
      "Botswana                         22101.30\n",
      "Burkina Faso                    101855.07\n",
      "Cabo Verde                       14650.74\n",
      "Cameroon                        232030.43\n",
      "Central African Republic         29937.00\n",
      "Chad                             71594.68\n",
      "Comoros                             59.84\n",
      "Congo                            41181.68\n",
      "Côte d'Ivoire                   224599.01\n",
      "Djibouti                         22729.91\n",
      "Egypt                           866379.92\n",
      "Eswatini                         54343.33\n",
      "Ethiopia                        448683.76\n",
      "Ethiopia PDR                         0.00\n",
      "Gabon                            27979.64\n",
      "Gambia                           23154.18\n",
      "Ghana                           337599.06\n",
      "Guinea                           98138.87\n",
      "Guinea-Bissau                    19102.77\n",
      "Kenya                           264660.66\n",
      "Lesotho                          21267.96\n",
      "Liberia                          29342.20\n",
      "Madagascar                      131197.73\n",
      "Malawi                          181098.71\n",
      "Mali                            149928.33\n",
      "Mauritania                      156665.46\n",
      "Mauritius                        51114.83\n",
      "Morocco                         388495.36\n",
      "Mozambique                      161407.98\n",
      "Namibia                          29874.89\n",
      "Niger                           126707.58\n",
      "Nigeria                        1483268.23\n",
      "Rwanda                           73663.69\n",
      "Sao Tome and Principe            12662.63\n",
      "Senegal                          95681.15\n",
      "Seychelles                         442.34\n",
      "Sierra Leone                     55311.33\n",
      "South Africa                    517590.54\n",
      "Sudan                           239931.92\n",
      "Sudan (former)                       0.00\n",
      "Togo                             49841.88\n",
      "Tunisia                         124167.20\n",
      "Uganda                          213950.38\n",
      "United Republic of Tanzania     322616.85\n",
      "Zambia                          103223.77\n",
      "Zimbabwe                         75919.34\n",
      "Name: Y2017, dtype: float64\n"
     ]
    }
   ],
   "source": [
    "# Select columns ‘Y2017’ and ‘Area’, Perform a groupby operation on ‘Area’.  \n",
    "# Which of these Areas had the 7th lowest sum in 2017?\n",
    "column_sum=df.groupby('Area')['Y2017'].sum()\n",
    "print(column_sum)\n",
    "\n",
    "#print(sorted_sums.iloc[6])"
   ]
  },
  {
   "cell_type": "code",
   "execution_count": 37,
   "id": "b4894b64",
   "metadata": {},
   "outputs": [
    {
     "name": "stdout",
     "output_type": "stream",
     "text": [
      "Area\n",
      "Sudan (former)                       0.00\n",
      "Ethiopia PDR                         0.00\n",
      "Comoros                             59.84\n",
      "Seychelles                         442.34\n",
      "Sao Tome and Principe            12662.63\n",
      "Cabo Verde                       14650.74\n",
      "Guinea-Bissau                    19102.77\n",
      "Lesotho                          21267.96\n",
      "Botswana                         22101.30\n",
      "Djibouti                         22729.91\n",
      "Gambia                           23154.18\n",
      "Gabon                            27979.64\n",
      "Liberia                          29342.20\n",
      "Namibia                          29874.89\n",
      "Central African Republic         29937.00\n",
      "Congo                            41181.68\n",
      "Togo                             49841.88\n",
      "Mauritius                        51114.83\n",
      "Eswatini                         54343.33\n",
      "Sierra Leone                     55311.33\n",
      "Chad                             71594.68\n",
      "Rwanda                           73663.69\n",
      "Zimbabwe                         75919.34\n",
      "Senegal                          95681.15\n",
      "Guinea                           98138.87\n",
      "Burkina Faso                    101855.07\n",
      "Zambia                          103223.77\n",
      "Tunisia                         124167.20\n",
      "Benin                           124771.22\n",
      "Niger                           126707.58\n",
      "Madagascar                      131197.73\n",
      "Mali                            149928.33\n",
      "Mauritania                      156665.46\n",
      "Mozambique                      161407.98\n",
      "Malawi                          181098.71\n",
      "Uganda                          213950.38\n",
      "Côte d'Ivoire                   224599.01\n",
      "Angola                          229159.57\n",
      "Cameroon                        232030.43\n",
      "Sudan                           239931.92\n",
      "Kenya                           264660.66\n",
      "United Republic of Tanzania     322616.85\n",
      "Algeria                         325644.27\n",
      "Ghana                           337599.06\n",
      "Morocco                         388495.36\n",
      "Ethiopia                        448683.76\n",
      "South Africa                    517590.54\n",
      "Egypt                           866379.92\n",
      "Nigeria                        1483268.23\n",
      "Name: Y2017, dtype: float64\n"
     ]
    }
   ],
   "source": [
    "sorted_sums=column_sum.sort_values(ascending=True)\n",
    "print(sorted_sums)\n",
    "# As the output we see Guinea Bissau had the 7th lowest sum"
   ]
  },
  {
   "cell_type": "code",
   "execution_count": 39,
   "id": "67847651",
   "metadata": {},
   "outputs": [
    {
     "data": {
      "text/plain": [
       "Area Code          0\n",
       "Area               0\n",
       "Item Code          0\n",
       "Item               0\n",
       "Element Code       0\n",
       "Element            0\n",
       "Unit               0\n",
       "Y2014           1589\n",
       "Y2015           1548\n",
       "Y2016           1535\n",
       "Y2017           1506\n",
       "Y2018           1436\n",
       "dtype: int64"
      ]
     },
     "execution_count": 39,
     "metadata": {},
     "output_type": "execute_result"
    }
   ],
   "source": [
    "# What is the total number and percentage of missing data in 2014 to 3 decimal places?\n",
    "df.isnull().sum()\n",
    "# The output shows that 2014 has 1589 missing values"
   ]
  },
  {
   "cell_type": "code",
   "execution_count": 40,
   "id": "f9de5428",
   "metadata": {},
   "outputs": [
    {
     "data": {
      "text/plain": [
       "59354"
      ]
     },
     "execution_count": 40,
     "metadata": {},
     "output_type": "execute_result"
    }
   ],
   "source": [
    "df['Y2014'].count()\n",
    "# This shows the total count of the values in the year 2014"
   ]
  },
  {
   "cell_type": "code",
   "execution_count": 41,
   "id": "d33e1018",
   "metadata": {},
   "outputs": [
    {
     "data": {
      "text/plain": [
       "Area Code       0.000000\n",
       "Area            0.000000\n",
       "Item Code       0.000000\n",
       "Item            0.000000\n",
       "Element Code    0.000000\n",
       "Element         0.000000\n",
       "Unit            0.000000\n",
       "Y2014           2.677157\n",
       "Y2015           2.608080\n",
       "Y2016           2.586178\n",
       "Y2017           2.537318\n",
       "Y2018           2.419382\n",
       "dtype: float64"
      ]
     },
     "execution_count": 41,
     "metadata": {},
     "output_type": "execute_result"
    }
   ],
   "source": [
    "# Calculating the percentage\n",
    "df.isnull().sum()/df['Y2014'].count() * 100"
   ]
  },
  {
   "cell_type": "code",
   "execution_count": 48,
   "id": "94ffffe3",
   "metadata": {},
   "outputs": [
    {
     "data": {
      "text/plain": [
       "Area      Element                               \n",
       "Algeria   Domestic supply quantity                  85972.86\n",
       "          Export Quantity                            1104.62\n",
       "          Fat supply quantity (g/capita/day)          317.40\n",
       "          Feed                                      10308.00\n",
       "          Food                                      61693.49\n",
       "                                                      ...   \n",
       "Zimbabwe  Protein supply quantity (g/capita/day)      175.31\n",
       "          Residuals                                  -780.00\n",
       "          Seed                                        128.00\n",
       "          Stock Variation                            -343.00\n",
       "          Total Population - Both sexes             13815.00\n",
       "Name: Y2015, Length: 803, dtype: float64"
      ]
     },
     "execution_count": 48,
     "metadata": {},
     "output_type": "execute_result"
    }
   ],
   "source": [
    "#What is the total Protein supply quantity in Madagascar in 2015?\n",
    "df.groupby(['Area','Element'])['Y2015'].sum()"
   ]
  },
  {
   "cell_type": "code",
   "execution_count": 49,
   "id": "4e4b64fc",
   "metadata": {},
   "outputs": [
    {
     "name": "stderr",
     "output_type": "stream",
     "text": [
      "C:\\Users\\user\\AppData\\Local\\Temp\\ipykernel_1188\\116293301.py:2: FutureWarning: The default value of numeric_only in DataFrameGroupBy.sum is deprecated. In a future version, numeric_only will default to False. Either specify numeric_only or select only columns which should be valid for the function.\n",
      "  df.groupby('Element').sum()\n"
     ]
    },
    {
     "data": {
      "text/html": [
       "<div>\n",
       "<style scoped>\n",
       "    .dataframe tbody tr th:only-of-type {\n",
       "        vertical-align: middle;\n",
       "    }\n",
       "\n",
       "    .dataframe tbody tr th {\n",
       "        vertical-align: top;\n",
       "    }\n",
       "\n",
       "    .dataframe thead th {\n",
       "        text-align: right;\n",
       "    }\n",
       "</style>\n",
       "<table border=\"1\" class=\"dataframe\">\n",
       "  <thead>\n",
       "    <tr style=\"text-align: right;\">\n",
       "      <th></th>\n",
       "      <th>Area Code</th>\n",
       "      <th>Item Code</th>\n",
       "      <th>Element Code</th>\n",
       "      <th>Y2014</th>\n",
       "      <th>Y2015</th>\n",
       "      <th>Y2016</th>\n",
       "      <th>Y2017</th>\n",
       "      <th>Y2018</th>\n",
       "    </tr>\n",
       "    <tr>\n",
       "      <th>Element</th>\n",
       "      <th></th>\n",
       "      <th></th>\n",
       "      <th></th>\n",
       "      <th></th>\n",
       "      <th></th>\n",
       "      <th></th>\n",
       "      <th></th>\n",
       "      <th></th>\n",
       "    </tr>\n",
       "  </thead>\n",
       "  <tbody>\n",
       "    <tr>\n",
       "      <th>Domestic supply quantity</th>\n",
       "      <td>708993</td>\n",
       "      <td>14197445</td>\n",
       "      <td>28068795</td>\n",
       "      <td>1996716.35</td>\n",
       "      <td>2021493.55</td>\n",
       "      <td>2044842.70</td>\n",
       "      <td>2088198.10</td>\n",
       "      <td>2161192.10</td>\n",
       "    </tr>\n",
       "    <tr>\n",
       "      <th>Export Quantity</th>\n",
       "      <td>599910</td>\n",
       "      <td>11840553</td>\n",
       "      <td>26026133</td>\n",
       "      <td>150020.64</td>\n",
       "      <td>157614.47</td>\n",
       "      <td>151920.46</td>\n",
       "      <td>182338.80</td>\n",
       "      <td>181594.80</td>\n",
       "    </tr>\n",
       "    <tr>\n",
       "      <th>Fat supply quantity (g/capita/day)</th>\n",
       "      <td>675050</td>\n",
       "      <td>13535000</td>\n",
       "      <td>3435732</td>\n",
       "      <td>10225.56</td>\n",
       "      <td>10235.74</td>\n",
       "      <td>10102.77</td>\n",
       "      <td>10253.84</td>\n",
       "      <td>10258.69</td>\n",
       "    </tr>\n",
       "    <tr>\n",
       "      <th>Feed</th>\n",
       "      <td>176272</td>\n",
       "      <td>3538507</td>\n",
       "      <td>7282199</td>\n",
       "      <td>216927.89</td>\n",
       "      <td>225050.22</td>\n",
       "      <td>228958.65</td>\n",
       "      <td>223705.68</td>\n",
       "      <td>233489.68</td>\n",
       "    </tr>\n",
       "    <tr>\n",
       "      <th>Food</th>\n",
       "      <td>663295</td>\n",
       "      <td>13285035</td>\n",
       "      <td>25406622</td>\n",
       "      <td>1212332.49</td>\n",
       "      <td>1232361.10</td>\n",
       "      <td>1247022.17</td>\n",
       "      <td>1258888.28</td>\n",
       "      <td>1303841.28</td>\n",
       "    </tr>\n",
       "    <tr>\n",
       "      <th>Food supply (kcal/capita/day)</th>\n",
       "      <td>674057</td>\n",
       "      <td>13511060</td>\n",
       "      <td>3329296</td>\n",
       "      <td>454257.00</td>\n",
       "      <td>453383.00</td>\n",
       "      <td>451810.00</td>\n",
       "      <td>454681.00</td>\n",
       "      <td>455261.00</td>\n",
       "    </tr>\n",
       "    <tr>\n",
       "      <th>Food supply quantity (kg/capita/yr)</th>\n",
       "      <td>658446</td>\n",
       "      <td>13185401</td>\n",
       "      <td>3163725</td>\n",
       "      <td>49650.63</td>\n",
       "      <td>49345.13</td>\n",
       "      <td>48985.28</td>\n",
       "      <td>48690.04</td>\n",
       "      <td>49056.85</td>\n",
       "    </tr>\n",
       "    <tr>\n",
       "      <th>Import Quantity</th>\n",
       "      <td>688174</td>\n",
       "      <td>13795966</td>\n",
       "      <td>28834929</td>\n",
       "      <td>274144.48</td>\n",
       "      <td>267018.46</td>\n",
       "      <td>286582.78</td>\n",
       "      <td>294559.09</td>\n",
       "      <td>287997.09</td>\n",
       "    </tr>\n",
       "    <tr>\n",
       "      <th>Losses</th>\n",
       "      <td>274353</td>\n",
       "      <td>5424803</td>\n",
       "      <td>10292107</td>\n",
       "      <td>153223.00</td>\n",
       "      <td>155439.00</td>\n",
       "      <td>157787.00</td>\n",
       "      <td>160614.00</td>\n",
       "      <td>163902.00</td>\n",
       "    </tr>\n",
       "    <tr>\n",
       "      <th>Other uses (non-food)</th>\n",
       "      <td>235554</td>\n",
       "      <td>4729749</td>\n",
       "      <td>8926728</td>\n",
       "      <td>78718.13</td>\n",
       "      <td>66254.41</td>\n",
       "      <td>69563.68</td>\n",
       "      <td>91645.97</td>\n",
       "      <td>91300.97</td>\n",
       "    </tr>\n",
       "    <tr>\n",
       "      <th>Processing</th>\n",
       "      <td>271940</td>\n",
       "      <td>5350416</td>\n",
       "      <td>10313310</td>\n",
       "      <td>282923.00</td>\n",
       "      <td>287929.00</td>\n",
       "      <td>280631.00</td>\n",
       "      <td>292836.00</td>\n",
       "      <td>308429.00</td>\n",
       "    </tr>\n",
       "    <tr>\n",
       "      <th>Production</th>\n",
       "      <td>526751</td>\n",
       "      <td>10450053</td>\n",
       "      <td>21388191</td>\n",
       "      <td>1931287.75</td>\n",
       "      <td>1947019.39</td>\n",
       "      <td>1943537.15</td>\n",
       "      <td>2030056.89</td>\n",
       "      <td>2075072.89</td>\n",
       "    </tr>\n",
       "    <tr>\n",
       "      <th>Protein supply quantity (g/capita/day)</th>\n",
       "      <td>675050</td>\n",
       "      <td>13535000</td>\n",
       "      <td>3385502</td>\n",
       "      <td>11836.46</td>\n",
       "      <td>11833.95</td>\n",
       "      <td>11779.69</td>\n",
       "      <td>11842.45</td>\n",
       "      <td>11833.56</td>\n",
       "    </tr>\n",
       "    <tr>\n",
       "      <th>Residuals</th>\n",
       "      <td>623271</td>\n",
       "      <td>12421089</td>\n",
       "      <td>24066350</td>\n",
       "      <td>30149.00</td>\n",
       "      <td>30045.00</td>\n",
       "      <td>37224.00</td>\n",
       "      <td>35500.00</td>\n",
       "      <td>34864.00</td>\n",
       "    </tr>\n",
       "    <tr>\n",
       "      <th>Seed</th>\n",
       "      <td>103537</td>\n",
       "      <td>2035933</td>\n",
       "      <td>4211574</td>\n",
       "      <td>21922.92</td>\n",
       "      <td>23976.82</td>\n",
       "      <td>23389.20</td>\n",
       "      <td>24870.14</td>\n",
       "      <td>25263.14</td>\n",
       "    </tr>\n",
       "    <tr>\n",
       "      <th>Stock Variation</th>\n",
       "      <td>571566</td>\n",
       "      <td>11329527</td>\n",
       "      <td>21464704</td>\n",
       "      <td>58749.83</td>\n",
       "      <td>34910.99</td>\n",
       "      <td>33140.12</td>\n",
       "      <td>54316.91</td>\n",
       "      <td>20577.91</td>\n",
       "    </tr>\n",
       "    <tr>\n",
       "      <th>Total Population - Both sexes</th>\n",
       "      <td>6020</td>\n",
       "      <td>112545</td>\n",
       "      <td>22995</td>\n",
       "      <td>1031585.00</td>\n",
       "      <td>1058081.00</td>\n",
       "      <td>1085107.00</td>\n",
       "      <td>1112641.00</td>\n",
       "      <td>1140605.00</td>\n",
       "    </tr>\n",
       "    <tr>\n",
       "      <th>Tourist consumption</th>\n",
       "      <td>50308</td>\n",
       "      <td>1486528</td>\n",
       "      <td>2869905</td>\n",
       "      <td>416.00</td>\n",
       "      <td>349.00</td>\n",
       "      <td>89.00</td>\n",
       "      <td>91.00</td>\n",
       "      <td>90.00</td>\n",
       "    </tr>\n",
       "  </tbody>\n",
       "</table>\n",
       "</div>"
      ],
      "text/plain": [
       "                                        Area Code  Item Code  Element Code  \\\n",
       "Element                                                                      \n",
       "Domestic supply quantity                   708993   14197445      28068795   \n",
       "Export Quantity                            599910   11840553      26026133   \n",
       "Fat supply quantity (g/capita/day)         675050   13535000       3435732   \n",
       "Feed                                       176272    3538507       7282199   \n",
       "Food                                       663295   13285035      25406622   \n",
       "Food supply (kcal/capita/day)              674057   13511060       3329296   \n",
       "Food supply quantity (kg/capita/yr)        658446   13185401       3163725   \n",
       "Import Quantity                            688174   13795966      28834929   \n",
       "Losses                                     274353    5424803      10292107   \n",
       "Other uses (non-food)                      235554    4729749       8926728   \n",
       "Processing                                 271940    5350416      10313310   \n",
       "Production                                 526751   10450053      21388191   \n",
       "Protein supply quantity (g/capita/day)     675050   13535000       3385502   \n",
       "Residuals                                  623271   12421089      24066350   \n",
       "Seed                                       103537    2035933       4211574   \n",
       "Stock Variation                            571566   11329527      21464704   \n",
       "Total Population - Both sexes                6020     112545         22995   \n",
       "Tourist consumption                         50308    1486528       2869905   \n",
       "\n",
       "                                             Y2014       Y2015       Y2016  \\\n",
       "Element                                                                      \n",
       "Domestic supply quantity                1996716.35  2021493.55  2044842.70   \n",
       "Export Quantity                          150020.64   157614.47   151920.46   \n",
       "Fat supply quantity (g/capita/day)        10225.56    10235.74    10102.77   \n",
       "Feed                                     216927.89   225050.22   228958.65   \n",
       "Food                                    1212332.49  1232361.10  1247022.17   \n",
       "Food supply (kcal/capita/day)            454257.00   453383.00   451810.00   \n",
       "Food supply quantity (kg/capita/yr)       49650.63    49345.13    48985.28   \n",
       "Import Quantity                          274144.48   267018.46   286582.78   \n",
       "Losses                                   153223.00   155439.00   157787.00   \n",
       "Other uses (non-food)                     78718.13    66254.41    69563.68   \n",
       "Processing                               282923.00   287929.00   280631.00   \n",
       "Production                              1931287.75  1947019.39  1943537.15   \n",
       "Protein supply quantity (g/capita/day)    11836.46    11833.95    11779.69   \n",
       "Residuals                                 30149.00    30045.00    37224.00   \n",
       "Seed                                      21922.92    23976.82    23389.20   \n",
       "Stock Variation                           58749.83    34910.99    33140.12   \n",
       "Total Population - Both sexes           1031585.00  1058081.00  1085107.00   \n",
       "Tourist consumption                         416.00      349.00       89.00   \n",
       "\n",
       "                                             Y2017       Y2018  \n",
       "Element                                                         \n",
       "Domestic supply quantity                2088198.10  2161192.10  \n",
       "Export Quantity                          182338.80   181594.80  \n",
       "Fat supply quantity (g/capita/day)        10253.84    10258.69  \n",
       "Feed                                     223705.68   233489.68  \n",
       "Food                                    1258888.28  1303841.28  \n",
       "Food supply (kcal/capita/day)            454681.00   455261.00  \n",
       "Food supply quantity (kg/capita/yr)       48690.04    49056.85  \n",
       "Import Quantity                          294559.09   287997.09  \n",
       "Losses                                   160614.00   163902.00  \n",
       "Other uses (non-food)                     91645.97    91300.97  \n",
       "Processing                               292836.00   308429.00  \n",
       "Production                              2030056.89  2075072.89  \n",
       "Protein supply quantity (g/capita/day)    11842.45    11833.56  \n",
       "Residuals                                 35500.00    34864.00  \n",
       "Seed                                      24870.14    25263.14  \n",
       "Stock Variation                           54316.91    20577.91  \n",
       "Total Population - Both sexes           1112641.00  1140605.00  \n",
       "Tourist consumption                          91.00       90.00  "
      ]
     },
     "execution_count": 49,
     "metadata": {},
     "output_type": "execute_result"
    }
   ],
   "source": [
    "# Perform a groupby operation on ‘Element’.  What year has the highest sum of Stock Variation?\n",
    "df.groupby('Element').sum()\n",
    "# The output shows that 2014 has the highest sum of stock variation"
   ]
  },
  {
   "cell_type": "code",
   "execution_count": 52,
   "id": "9ac69c19",
   "metadata": {},
   "outputs": [
    {
     "name": "stdout",
     "output_type": "stream",
     "text": [
      "Area\n",
      "Sudan (former)                       0.00\n",
      "Ethiopia PDR                         0.00\n",
      "Comoros                             59.84\n",
      "Seychelles                         442.34\n",
      "Sao Tome and Principe            12662.63\n",
      "Cabo Verde                       14650.74\n",
      "Guinea-Bissau                    19102.77\n",
      "Lesotho                          21267.96\n",
      "Botswana                         22101.30\n",
      "Djibouti                         22729.91\n",
      "Gambia                           23154.18\n",
      "Gabon                            27979.64\n",
      "Liberia                          29342.20\n",
      "Namibia                          29874.89\n",
      "Central African Republic         29937.00\n",
      "Congo                            41181.68\n",
      "Togo                             49841.88\n",
      "Mauritius                        51114.83\n",
      "Eswatini                         54343.33\n",
      "Sierra Leone                     55311.33\n",
      "Chad                             71594.68\n",
      "Rwanda                           73663.69\n",
      "Zimbabwe                         75919.34\n",
      "Senegal                          95681.15\n",
      "Guinea                           98138.87\n",
      "Burkina Faso                    101855.07\n",
      "Zambia                          103223.77\n",
      "Tunisia                         124167.20\n",
      "Benin                           124771.22\n",
      "Niger                           126707.58\n",
      "Madagascar                      131197.73\n",
      "Mali                            149928.33\n",
      "Mauritania                      156665.46\n",
      "Mozambique                      161407.98\n",
      "Malawi                          181098.71\n",
      "Uganda                          213950.38\n",
      "Côte d'Ivoire                   224599.01\n",
      "Angola                          229159.57\n",
      "Cameroon                        232030.43\n",
      "Sudan                           239931.92\n",
      "Kenya                           264660.66\n",
      "United Republic of Tanzania     322616.85\n",
      "Algeria                         325644.27\n",
      "Ghana                           337599.06\n",
      "Morocco                         388495.36\n",
      "Ethiopia                        448683.76\n",
      "South Africa                    517590.54\n",
      "Egypt                           866379.92\n",
      "Nigeria                        1483268.23\n",
      "Name: Y2017, dtype: float64\n"
     ]
    }
   ],
   "source": [
    "# Select columns ‘Y2017’ and ‘Area’, Perform a groupby operation on ‘Area’.  Which of these Areas had the highest sum in 2017?\n",
    "print(df.groupby('Area')['Y2017'].sum().sort_values(ascending=True))"
   ]
  },
  {
   "cell_type": "markdown",
   "id": "2b7e5d69",
   "metadata": {},
   "source": [
    "Nigeria had the highest sum in 2017"
   ]
  },
  {
   "cell_type": "code",
   "execution_count": null,
   "id": "71d25256",
   "metadata": {},
   "outputs": [],
   "source": []
  }
 ],
 "metadata": {
  "kernelspec": {
   "display_name": "Python 3 (ipykernel)",
   "language": "python",
   "name": "python3"
  },
  "language_info": {
   "codemirror_mode": {
    "name": "ipython",
    "version": 3
   },
   "file_extension": ".py",
   "mimetype": "text/x-python",
   "name": "python",
   "nbconvert_exporter": "python",
   "pygments_lexer": "ipython3",
   "version": "3.10.9"
  }
 },
 "nbformat": 4,
 "nbformat_minor": 5
}
